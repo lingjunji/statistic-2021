{
 "cells": [
  {
   "cell_type": "code",
   "execution_count": 8,
   "metadata": {},
   "outputs": [],
   "source": [
    "import pandas as pd\n",
    "import matplotlib.pyplot as plt\n",
    "from pyreadstat import pyreadstat \n",
    "\n",
    "\n",
    "国家认同调查数据表, metadata = pyreadstat.read_sav(R'data\\identity.sav',\n",
    "apply_value_formats=True,formats_as_ordered_category=True)\n",
    "result = 国家认同调查数据表['会打多少分'].value_counts(sort=False)"
   ]
  },
  {
   "cell_type": "code",
   "execution_count": 9,
   "metadata": {},
   "outputs": [
    {
     "ename": "NameError",
     "evalue": "name 'mytools' is not defined",
     "output_type": "error",
     "traceback": [
      "\u001b[1;31m---------------------------------------------------------------------------\u001b[0m",
      "\u001b[1;31mNameError\u001b[0m                                 Traceback (most recent call last)",
      "\u001b[1;32mc:\\Users\\86151\\Desktop\\statistic-2021\\description2.ipynb 单元格 2\u001b[0m line \u001b[0;36m1\n\u001b[1;32m----> <a href='vscode-notebook-cell:/c%3A/Users/86151/Desktop/statistic-2021/description2.ipynb#W1sZmlsZQ%3D%3D?line=0'>1</a>\u001b[0m 描述统计结果表 \u001b[39m=\u001b[39m mytools\u001b[39m.\u001b[39m有序变量描述统计函数(国家认同调查数据表,\u001b[39m'\u001b[39m\u001b[39m您觉得中国怎么样\u001b[39m\u001b[39m'\u001b[39m)\n\u001b[0;32m      <a href='vscode-notebook-cell:/c%3A/Users/86151/Desktop/statistic-2021/description2.ipynb#W1sZmlsZQ%3D%3D?line=1'>2</a>\u001b[0m 描述统计结果表\n",
      "\u001b[1;31mNameError\u001b[0m: name 'mytools' is not defined"
     ]
    }
   ],
   "source": [
    "描述统计结果表 = mytools.有序变量描述统计函数(国家认同调查数据表,'您觉得中国怎么样')\n",
    "描述统计结果表"
   ]
  },
  {
   "cell_type": "code",
   "execution_count": null,
   "metadata": {},
   "outputs": [
    {
     "ename": "NameError",
     "evalue": "name 'mytools' is not defined",
     "output_type": "error",
     "traceback": [
      "\u001b[1;31m---------------------------------------------------------------------------\u001b[0m",
      "\u001b[1;31mNameError\u001b[0m                                 Traceback (most recent call last)",
      "\u001b[1;32mc:\\Users\\86151\\Desktop\\statistic-2021\\description2.ipynb 单元格 3\u001b[0m line \u001b[0;36m1\n\u001b[1;32m----> <a href='vscode-notebook-cell:/c%3A/Users/86151/Desktop/statistic-2021/description2.ipynb#W2sZmlsZQ%3D%3D?line=0'>1</a>\u001b[0m mytools\u001b[39m.\u001b[39m绘制直方图(描述统计结果表)\n",
      "\u001b[1;31mNameError\u001b[0m: name 'mytools' is not defined"
     ]
    }
   ],
   "source": [
    "mytools.绘制直方图(描述统计结果表)"
   ]
  }
 ],
 "metadata": {
  "kernelspec": {
   "display_name": "Python 3",
   "language": "python",
   "name": "python3"
  },
  "language_info": {
   "codemirror_mode": {
    "name": "ipython",
    "version": 3
   },
   "file_extension": ".py",
   "mimetype": "text/x-python",
   "name": "python",
   "nbconvert_exporter": "python",
   "pygments_lexer": "ipython3",
   "version": "3.8.10"
  }
 },
 "nbformat": 4,
 "nbformat_minor": 2
}
