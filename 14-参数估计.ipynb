{
 "cells": [
  {
   "cell_type": "code",
   "execution_count": 93,
   "metadata": {},
   "outputs": [],
   "source": [
    "import pandas as pd\n",
    "from scipy import stats\n",
    "# 打开数据文件\n",
    "file_path = R\"data/movie_data_cleaned.csv\"\n",
    "df_movies = pd.read_csv(file_path)"
   ]
  },
  {
   "cell_type": "code",
   "execution_count": 94,
   "metadata": {},
   "outputs": [
    {
     "name": "stdout",
     "output_type": "stream",
     "text": [
      "均值： 7.20\n",
      "均值在置信水平0.95下的置信区间为： (7.171337577138237, 7.2214184794700635)\n"
     ]
    }
   ],
   "source": [
    "# 计算均值和标准误差\n",
    "mean = df_movies['average'].mean()\n",
    "std_error = stats.sem(df_movies['average'])\n",
    "# 设定置信水平\n",
    "confidence_level = 0.95\n",
    "# 设定自由度\n",
    "df = len(df_movies['average']) - 1\n",
    "# 计算置信区间\n",
    "confidence_interval = stats.t.interval(confidence_level, df, loc=mean, scale=std_error)\n",
    "# 输出结果\n",
    "print(F\"均值：{mean: .2f}\")\n",
    "print(F\"均值在置信水平{confidence_level}下的置信区间为：\", confidence_interval)"
   ]
  },
  {
   "cell_type": "code",
   "execution_count": 95,
   "metadata": {},
   "outputs": [
    {
     "name": "stdout",
     "output_type": "stream",
     "text": [
      "      Unnamed: 0  average       country               genre          language  \\\n",
      "5854        6345      5.2           俄罗斯        ['喜剧', '冒险']                俄语   \n",
      "5761        6167      7.6          中国香港              ['爱情']          粤语 / 普通话   \n",
      "715          717      8.7            美国  ['喜剧', '科幻', '冒险']                英语   \n",
      "6665        7643      6.6            韩国              ['恐怖']                韩语   \n",
      "7106        8505      8.9          中国台湾        ['剧情', '家庭']             汉语普通话   \n",
      "...          ...      ...           ...                 ...               ...   \n",
      "4591        4777      5.6          中国大陆        ['剧情', '爱情']   汉语普通话 / 英语 / 粤语   \n",
      "3818        3872      7.5   中国大陆 / 中国香港  ['动作', '武侠', '古装']             汉语普通话   \n",
      "6534        7495      7.1            美国        ['科幻', '恐怖']                英语   \n",
      "1737        1746      7.8            美国  ['喜剧', '动作', '动画']                英语   \n",
      "4918        5252      6.5            美国              ['剧情']                英语   \n",
      "\n",
      "     release_date                    title     votes  \n",
      "5854   2018-12-14            最萌警探 Напарник    2739.0  \n",
      "5761   2008-03-13                我的最爱 我的最愛   43398.0  \n",
      "715    1985-07-03  回到未来 Back to the Future  139598.0  \n",
      "6665   2004-08-06                  人形师 인형사   15850.0  \n",
      "7106   1997-04-13                  红柿子 紅柿子    3297.0  \n",
      "...           ...                      ...       ...  \n",
      "4591   2011-12-23                     亲密敌人   60279.0  \n",
      "3818   2007-01-24               陆小凤传奇之绣花大盗    9664.0  \n",
      "6534   1985-07-19     丧尸出笼 Day of the Dead    4564.0  \n",
      "1737   2010-11-05           超级大坏蛋 Megamind  110504.0  \n",
      "4918   2014-08-30      包法利夫人 Madame Bovary    6681.0  \n",
      "\n",
      "[834 rows x 8 columns]\n"
     ]
    }
   ],
   "source": [
    "#使用sample函数实现随机抽取\n",
    "import pandas as pd  \n",
    "  \n",
    "# 读取数据  \n",
    "data = pd.read_csv('data\\movie_data_cleaned.csv')  \n",
    "  \n",
    "# 从数据框中随机抽取10%的样本  \n",
    "sample = data.sample(frac=0.1)  \n",
    "  \n",
    "# 打印样本  \n",
    "print(sample)"
   ]
  },
  {
   "cell_type": "code",
   "execution_count": 96,
   "metadata": {},
   "outputs": [
    {
     "name": "stdout",
     "output_type": "stream",
     "text": [
      "样本均值： 7.2286570743405285\n",
      "样本均值在置信水平0.95下的置信区间为：(7.148635040121553, 7.308679108559504)\n"
     ]
    }
   ],
   "source": [
    "#再计算抽取样本的的均值和置信区间\n",
    "import pandas as pd  \n",
    "import numpy as np  \n",
    "from scipy import stats  \n",
    "  \n",
    "# 打开数据文件  \n",
    "file_path = \"data/movie_data_cleaned.csv\"  \n",
    "df = pd.read_csv(file_path)  \n",
    "  \n",
    "# 从数据框中随机抽取10%的样本  \n",
    "sample = df.sample(frac=0.1)  \n",
    "  \n",
    "# 计算样本均值  \n",
    "mean = sample['average'].mean()  \n",
    "  \n",
    "# 计算标准误差  \n",
    "std_error = stats.sem(sample['average'])  \n",
    "  \n",
    "# 设定置信水平  \n",
    "confidence_level = 0.95  \n",
    "  \n",
    "# 设定自由度  \n",
    "degrees_freedom = len(sample['average']) - 1  \n",
    "  \n",
    "# 计算置信区间  \n",
    "confidence_interval = stats.t.interval(confidence_level, degrees_freedom, loc=mean, scale=std_error)  \n",
    "  \n",
    "# 输出结果  \n",
    "print(\"样本均值：\", mean)  \n",
    "print(\"样本均值在置信水平{:.2f}下的置信区间为：{}\".format(confidence_level, confidence_interval))"
   ]
  }
 ],
 "metadata": {
  "kernelspec": {
   "display_name": "Python 3",
   "language": "python",
   "name": "python3"
  },
  "language_info": {
   "codemirror_mode": {
    "name": "ipython",
    "version": 3
   },
   "file_extension": ".py",
   "mimetype": "text/x-python",
   "name": "python",
   "nbconvert_exporter": "python",
   "pygments_lexer": "ipython3",
   "version": "3.8.10"
  }
 },
 "nbformat": 4,
 "nbformat_minor": 2
}
