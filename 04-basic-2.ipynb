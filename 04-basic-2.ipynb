{
 "cells": [
  {
   "cell_type": "code",
   "execution_count": 5,
   "metadata": {},
   "outputs": [
    {
     "name": "stdout",
     "output_type": "stream",
     "text": [
      "https://example.com/lisi\n"
     ]
    }
   ],
   "source": [
    "students  = [  \n",
    "    {\"姓名\": \"张三\", \"学号\": \"20230001\", \"github仓库地址\": \"https://example.com/zhangsan\"},  \n",
    "    {\"姓名\": \"李四\", \"学号\": \"20230002\", \"github仓库地址\": \"https://example.com/lisi\"},  \n",
    "    {\"姓名\": \"王五\", \"学号\": \"20230003\", \"github仓库地址\": \"https://example.com/wangwu\"},  \n",
    "    {\"姓名\": \"赵六\", \"学号\": \"20230004\", \"github仓库地址\": \"https://example.com/zhaoliu\"},  \n",
    "    {\"姓名\": \"孙七\", \"学号\": \"20230005\", \"github仓库地址\": \"https://example.com/sunqi\"},  \n",
    "    {\"姓名\": \"周八\", \"学号\": \"20230006\", \"github仓库地址\": \"https://example.com/zhouba\"},  \n",
    "    {\"姓名\": \"吴九\", \"学号\": \"20230007\", \"github仓库地址\": \"https://example.com/wujiu\"},  \n",
    "    {\"姓名\": \"郑十\", \"学号\": \"20230008\", \"github仓库地址\": \"https://example.com/zhengshi\"},  \n",
    "    {\"姓名\": \"冯十一\", \"学号\": \"20230009\", \"github仓库地址\": \"https://example.com/fengshiyi\"},  \n",
    "    {\"姓名\": \"陈十二\", \"学号\": \"20230010\", \"github仓库地址\": \"https://example.com/chenshi'le\"}  \n",
    "]\n",
    "# 指定要筛选的姓名  \n",
    "target_name = \"李四\"\n",
    "#使用for循环筛选出指定姓名的同学的github仓库地址\n",
    "for student in students:  \n",
    "    if student[\"姓名\"] == target_name:   \n",
    "        print(student[\"github仓库地址\"])\n",
    "\n"
   ]
  },
  {
   "cell_type": "code",
   "execution_count": 6,
   "metadata": {},
   "outputs": [],
   "source": [
    "def get_repro_by_name(name, data):\n",
    "    for i in data:\n",
    "        if i[\"姓名\"] ==name:\n",
    "            print(i[\"github仓库地址\"])"
   ]
  },
  {
   "cell_type": "code",
   "execution_count": 7,
   "metadata": {},
   "outputs": [
    {
     "name": "stdout",
     "output_type": "stream",
     "text": [
      "https://example.com/lisi\n"
     ]
    }
   ],
   "source": [
    "get_repro_by_name('李四',students)"
   ]
  },
  {
   "cell_type": "code",
   "execution_count": 8,
   "metadata": {},
   "outputs": [
    {
     "name": "stdout",
     "output_type": "stream",
     "text": [
      "https://example.com/lisi\n"
     ]
    }
   ],
   "source": [
    "get_repro_by_name('李四',data = students)"
   ]
  }
 ],
 "metadata": {
  "kernelspec": {
   "display_name": "Python 3",
   "language": "python",
   "name": "python3"
  },
  "language_info": {
   "codemirror_mode": {
    "name": "ipython",
    "version": 3
   },
   "file_extension": ".py",
   "mimetype": "text/x-python",
   "name": "python",
   "nbconvert_exporter": "python",
   "pygments_lexer": "ipython3",
   "version": "3.8.10"
  },
  "orig_nbformat": 4
 },
 "nbformat": 4,
 "nbformat_minor": 2
}
