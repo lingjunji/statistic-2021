{
 "cells": [
  {
   "cell_type": "code",
   "execution_count": 6,
   "metadata": {},
   "outputs": [
    {
     "name": "stdout",
     "output_type": "stream",
     "text": [
      "这是一个python程序，感觉不错\n"
     ]
    }
   ],
   "source": [
    "print('这是一个python程序，感觉不错')"
   ]
  },
  {
   "cell_type": "code",
   "execution_count": 7,
   "metadata": {},
   "outputs": [],
   "source": [
    "#这是单行注释\n"
   ]
  },
  {
   "cell_type": "code",
   "execution_count": 8,
   "metadata": {},
   "outputs": [
    {
     "name": "stdout",
     "output_type": "stream",
     "text": [
      "初始资金: 1000000\n"
     ]
    },
    {
     "ename": "TypeError",
     "evalue": "unsupported operand type(s) for -: 'str' and 'float'",
     "output_type": "error",
     "traceback": [
      "\u001b[1;31m---------------------------------------------------------------------------\u001b[0m",
      "\u001b[1;31mTypeError\u001b[0m                                 Traceback (most recent call last)",
      "\u001b[1;32mc:\\Users\\86151\\Desktop\\statistic-2021\\02-basic.ipynb 单元格 3\u001b[0m line \u001b[0;36m3\n\u001b[0;32m      <a href='vscode-notebook-cell:/c%3A/Users/86151/Desktop/statistic-2021/02-basic.ipynb#W2sZmlsZQ%3D%3D?line=0'>1</a>\u001b[0m money \u001b[39m=\u001b[39m \u001b[39m'\u001b[39m\u001b[39m1000000\u001b[39m\u001b[39m'\u001b[39m  \n\u001b[0;32m      <a href='vscode-notebook-cell:/c%3A/Users/86151/Desktop/statistic-2021/02-basic.ipynb#W2sZmlsZQ%3D%3D?line=1'>2</a>\u001b[0m \u001b[39mprint\u001b[39m(\u001b[39m'\u001b[39m\u001b[39m初始资金:\u001b[39m\u001b[39m'\u001b[39m, money)  \n\u001b[1;32m----> <a href='vscode-notebook-cell:/c%3A/Users/86151/Desktop/statistic-2021/02-basic.ipynb#W2sZmlsZQ%3D%3D?line=2'>3</a>\u001b[0m money \u001b[39m=\u001b[39m money \u001b[39m-\u001b[39;49m \u001b[39m3.5\u001b[39;49m  \n\u001b[0;32m      <a href='vscode-notebook-cell:/c%3A/Users/86151/Desktop/statistic-2021/02-basic.ipynb#W2sZmlsZQ%3D%3D?line=3'>4</a>\u001b[0m \u001b[39mprint\u001b[39m(\u001b[39m'\u001b[39m\u001b[39m现有资金:\u001b[39m\u001b[39m'\u001b[39m, money)\n",
      "\u001b[1;31mTypeError\u001b[0m: unsupported operand type(s) for -: 'str' and 'float'"
     ]
    }
   ],
   "source": [
    "money = '1000000'  \n",
    "print('初始资金:', money)  \n",
    "money = money - 3.5  \n",
    "print('现有资金:', money)"
   ]
  },
  {
   "cell_type": "code",
   "execution_count": null,
   "metadata": {},
   "outputs": [
    {
     "name": "stdout",
     "output_type": "stream",
     "text": [
      "初始资金:1000000\n",
      "现有资金:999996.5\n"
     ]
    }
   ],
   "source": [
    "#数字类型  \n",
    "money='1000000'  \n",
    "print('初始资金:'+money)  \n",
    "money=float(money)  # 将字符串转换为浮点数  \n",
    "money=money-3.5  \n",
    "print('现有资金:'+str(money))  # 使用加号连接字符串和浮点数"
   ]
  },
  {
   "cell_type": "code",
   "execution_count": null,
   "metadata": {},
   "outputs": [
    {
     "ename": "",
     "evalue": "",
     "output_type": "error",
     "traceback": [
      "\u001b[1;31m运行具有“c:\\Users\\86151\\AppData\\Local\\Programs\\Python\\Python38\\python.exe”的单元格需要ipykernel包。\n",
      "\u001b[1;31mRun the following command to install 'ipykernel' into the Python environment. \n",
      "\u001b[1;31mCommand: 'c:/Users/86151/AppData/Local/Programs/Python/Python38/python.exe -m pip install ipykernel -U --user --force-reinstall'"
     ]
    }
   ],
   "source": [
    "#字符串\n",
    "\n",
    "#字符串是一种序列\n",
    "title='上仙'\n",
    "skill='御剑术'\n",
    "\n",
    "print(title+'使用了'+skill)"
   ]
  },
  {
   "cell_type": "code",
   "execution_count": null,
   "metadata": {},
   "outputs": [
    {
     "name": "stdout",
     "output_type": "stream",
     "text": [
      "Hello, world!\n",
      "My name is Alice\n",
      "12\n"
     ]
    }
   ],
   "source": [
    "print(\"Hello, world!\")  # 打印字符串  \n",
    "name = \"Alice\"  \n",
    "print(\"My name is\", name)  # 打印变量  \n",
    "print(5 + 7)  # 打印表达式的结果"
   ]
  },
  {
   "cell_type": "code",
   "execution_count": null,
   "metadata": {},
   "outputs": [
    {
     "name": "stdout",
     "output_type": "stream",
     "text": [
      "<class 'bool'>\n",
      "<class 'tuple'>\n",
      "<class 'list'>\n",
      "<class 'set'>\n",
      "<class 'dict'>\n"
     ]
    }
   ],
   "source": [
    "#其他类型\n",
    "t=False\n",
    "print(type(t))\n",
    "a=(1,2,3)\n",
    "print(type(a))\n",
    "b=[1,2,3]\n",
    "print(type(b))\n",
    "c={1,2,3}\n",
    "print(type(c))\n",
    "d={'姓名':'小明','性别':'男'}\n",
    "print(type(d))"
   ]
  }
 ],
 "metadata": {
  "kernelspec": {
   "display_name": "Python 3",
   "language": "python",
   "name": "python3"
  },
  "language_info": {
   "codemirror_mode": {
    "name": "ipython",
    "version": 3
   },
   "file_extension": ".py",
   "mimetype": "text/x-python",
   "name": "python",
   "nbconvert_exporter": "python",
   "pygments_lexer": "ipython3",
   "version": "3.8.10"
  },
  "orig_nbformat": 4
 },
 "nbformat": 4,
 "nbformat_minor": 2
}
